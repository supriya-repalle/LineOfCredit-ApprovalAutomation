{
 "cells": [
  {
   "cell_type": "markdown",
   "metadata": {},
   "source": [
    "**ML Model**"
   ]
  },
  {
   "cell_type": "code",
   "execution_count": 3,
   "metadata": {},
   "outputs": [],
   "source": [
    "import numpy as np\n",
    "import pandas as pd\n",
    "from sklearn.model_selection import train_test_split\n",
    "from sklearn.linear_model import LogisticRegression, LinearRegression\n",
    "from sklearn.tree import DecisionTreeClassifier, DecisionTreeRegressor\n",
    "from sklearn.ensemble import RandomForestClassifier, RandomForestRegressor\n",
    "from sklearn.multioutput import MultiOutputRegressor\n",
    "from sklearn.metrics import accuracy_score, classification_report, mean_absolute_error\n",
    "\n",
    "merged_df = pd.read_csv(\"merged.csv\")\n",
    "# -------------------------------\n",
    "# Prepare Features and Targets\n",
    "# -------------------------------\n",
    "# Assume merged_df is your final DataFrame from previous steps.\n",
    "# Drop irrelevant columns and target columns from features.\n",
    "# Targets: \"approved\" (classification), \"credit_limit\" and \"interest_rate\" (regression)\n",
    "features = merged_df.drop(columns=[\"applicant_id\", \"approved\", \"credit_limit\", \"interest_rate\"])\n",
    "\n",
    "# Convert categorical features to dummy variables\n",
    "features = pd.get_dummies(features, drop_first=True)\n",
    "\n",
    "# Define target variables\n",
    "y_class = merged_df[\"approved\"]  # Binary target\n",
    "y_reg = merged_df[[\"credit_limit\", \"interest_rate\"]]  # Regression targets\n",
    "\n",
    "# -------------------------------\n",
    "# Train-Test Split (70/30)\n",
    "# -------------------------------\n",
    "X_train, X_test, y_class_train, y_class_test, y_reg_train, y_reg_test = train_test_split(\n",
    "    features, y_class, y_reg, test_size=0.3, random_state=42\n",
    ")\n"
   ]
  },
  {
   "cell_type": "code",
   "execution_count": 4,
   "metadata": {},
   "outputs": [
    {
     "name": "stdout",
     "output_type": "stream",
     "text": [
      "Variation 1: Logistic Regression + Linear Regression\n",
      "Approval Classification Report:\n",
      "              precision    recall  f1-score   support\n",
      "\n",
      "         0.0       0.84      0.61      0.71       584\n",
      "         1.0       0.78      0.92      0.85       890\n",
      "\n",
      "    accuracy                           0.80      1474\n",
      "   macro avg       0.81      0.77      0.78      1474\n",
      "weighted avg       0.81      0.80      0.79      1474\n",
      "\n",
      "Approval Accuracy: 0.8005427408412483\n",
      "\n",
      "Regression Performance (MAE):\n",
      "Credit Limit MAE: 4144.834896632041\n",
      "Interest Rate MAE: 0.6231534959206302\n"
     ]
    },
    {
     "name": "stderr",
     "output_type": "stream",
     "text": [
      "c:\\Users\\91630\\AppData\\Local\\Programs\\Python\\Python310\\lib\\site-packages\\sklearn\\linear_model\\_logistic.py:469: ConvergenceWarning: lbfgs failed to converge (status=1):\n",
      "STOP: TOTAL NO. of ITERATIONS REACHED LIMIT.\n",
      "\n",
      "Increase the number of iterations (max_iter) or scale the data as shown in:\n",
      "    https://scikit-learn.org/stable/modules/preprocessing.html\n",
      "Please also refer to the documentation for alternative solver options:\n",
      "    https://scikit-learn.org/stable/modules/linear_model.html#logistic-regression\n",
      "  n_iter_i = _check_optimize_result(\n"
     ]
    }
   ],
   "source": [
    "\n",
    "# =============================================================================\n",
    "# Variation 1: Logistic Regression (for approval) and Linear Regression (for credit limit & interest rate)\n",
    "# =============================================================================\n",
    "# Classification: Logistic Regression\n",
    "clf_logistic = LogisticRegression(max_iter=10000, random_state=42)\n",
    "clf_logistic.fit(X_train, y_class_train)\n",
    "y_class_pred_logistic = clf_logistic.predict(X_test)\n",
    "\n",
    "# Regression: Linear Regression for multiple outputs\n",
    "reg_linear = MultiOutputRegressor(LinearRegression())\n",
    "reg_linear.fit(X_train, y_reg_train)\n",
    "y_reg_pred_linear = reg_linear.predict(X_test)\n",
    "\n",
    "print(\"Variation 1: Logistic Regression + Linear Regression\")\n",
    "print(\"Approval Classification Report:\")\n",
    "print(classification_report(y_class_test, y_class_pred_logistic))\n",
    "print(\"Approval Accuracy:\", accuracy_score(y_class_test, y_class_pred_logistic))\n",
    "print(\"\\nRegression Performance (MAE):\")\n",
    "print(\"Credit Limit MAE:\", mean_absolute_error(y_reg_test[\"credit_limit\"], y_reg_pred_linear[:, 0]))\n",
    "print(\"Interest Rate MAE:\", mean_absolute_error(y_reg_test[\"interest_rate\"], y_reg_pred_linear[:, 1]))\n"
   ]
  },
  {
   "cell_type": "code",
   "execution_count": 5,
   "metadata": {},
   "outputs": [
    {
     "name": "stdout",
     "output_type": "stream",
     "text": [
      "\n",
      "Variation 2: Decision Tree\n",
      "Approval Classification Report:\n",
      "              precision    recall  f1-score   support\n",
      "\n",
      "         0.0       0.95      0.93      0.94       584\n",
      "         1.0       0.95      0.97      0.96       890\n",
      "\n",
      "    accuracy                           0.95      1474\n",
      "   macro avg       0.95      0.95      0.95      1474\n",
      "weighted avg       0.95      0.95      0.95      1474\n",
      "\n",
      "Approval Accuracy: 0.9525101763907734\n",
      "\n",
      "Regression Performance (MAE):\n",
      "Credit Limit MAE: 1079.9056229513662\n",
      "Interest Rate MAE: 0.19402985074626866\n"
     ]
    }
   ],
   "source": [
    "# =============================================================================\n",
    "# Variation 2: Decision Tree\n",
    "# =============================================================================\n",
    "# Classification: Decision Tree Classifier\n",
    "clf_tree = DecisionTreeClassifier(random_state=42)\n",
    "clf_tree.fit(X_train, y_class_train)\n",
    "y_class_pred_tree = clf_tree.predict(X_test)\n",
    "\n",
    "# Regression: Decision Tree Regressor (multi-output)\n",
    "reg_tree = MultiOutputRegressor(DecisionTreeRegressor(random_state=42))\n",
    "reg_tree.fit(X_train, y_reg_train)\n",
    "y_reg_pred_tree = reg_tree.predict(X_test)\n",
    "\n",
    "print(\"\\nVariation 2: Decision Tree\")\n",
    "print(\"Approval Classification Report:\")\n",
    "print(classification_report(y_class_test, y_class_pred_tree))\n",
    "print(\"Approval Accuracy:\", accuracy_score(y_class_test, y_class_pred_tree))\n",
    "print(\"\\nRegression Performance (MAE):\")\n",
    "print(\"Credit Limit MAE:\", mean_absolute_error(y_reg_test[\"credit_limit\"], y_reg_pred_tree[:, 0]))\n",
    "print(\"Interest Rate MAE:\", mean_absolute_error(y_reg_test[\"interest_rate\"], y_reg_pred_tree[:, 1]))\n"
   ]
  },
  {
   "cell_type": "code",
   "execution_count": 6,
   "metadata": {},
   "outputs": [
    {
     "name": "stdout",
     "output_type": "stream",
     "text": [
      "\n",
      "Variation 3: Random Forest\n",
      "Approval Classification Report:\n",
      "              precision    recall  f1-score   support\n",
      "\n",
      "         0.0       0.97      0.98      0.97       584\n",
      "         1.0       0.99      0.98      0.98       890\n",
      "\n",
      "    accuracy                           0.98      1474\n",
      "   macro avg       0.98      0.98      0.98      1474\n",
      "weighted avg       0.98      0.98      0.98      1474\n",
      "\n",
      "Approval Accuracy: 0.9796472184531886\n",
      "\n",
      "Regression Performance (MAE):\n",
      "Credit Limit MAE: 998.3514554901355\n",
      "Interest Rate MAE: 0.1906241519674355\n"
     ]
    }
   ],
   "source": [
    "# =============================================================================\n",
    "# Variation 3: Random Forest\n",
    "# =============================================================================\n",
    "# Classification: Random Forest Classifier\n",
    "clf_rf = RandomForestClassifier(n_estimators=100, random_state=42)\n",
    "clf_rf.fit(X_train, y_class_train)\n",
    "y_class_pred_rf = clf_rf.predict(X_test)\n",
    "\n",
    "# Regression: Random Forest Regressor (multi-output)\n",
    "reg_rf = MultiOutputRegressor(RandomForestRegressor(n_estimators=100, random_state=42))\n",
    "reg_rf.fit(X_train, y_reg_train)\n",
    "y_reg_pred_rf = reg_rf.predict(X_test)\n",
    "\n",
    "print(\"\\nVariation 3: Random Forest\")\n",
    "print(\"Approval Classification Report:\")\n",
    "print(classification_report(y_class_test, y_class_pred_rf))\n",
    "print(\"Approval Accuracy:\", accuracy_score(y_class_test, y_class_pred_rf))\n",
    "print(\"\\nRegression Performance (MAE):\")\n",
    "print(\"Credit Limit MAE:\", mean_absolute_error(y_reg_test[\"credit_limit\"], y_reg_pred_rf[:, 0]))\n",
    "print(\"Interest Rate MAE:\", mean_absolute_error(y_reg_test[\"interest_rate\"], y_reg_pred_rf[:, 1]))"
   ]
  }
 ],
 "metadata": {
  "kernelspec": {
   "display_name": "Python 3",
   "language": "python",
   "name": "python3"
  },
  "language_info": {
   "codemirror_mode": {
    "name": "ipython",
    "version": 3
   },
   "file_extension": ".py",
   "mimetype": "text/x-python",
   "name": "python",
   "nbconvert_exporter": "python",
   "pygments_lexer": "ipython3",
   "version": "3.10.8"
  }
 },
 "nbformat": 4,
 "nbformat_minor": 2
}
